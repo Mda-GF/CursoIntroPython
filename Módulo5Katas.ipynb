{
 "cells": [
  {
   "cell_type": "markdown",
   "metadata": {},
   "source": [
    "Ejercicio1 - Utilizar operadores aritméticos"
   ]
  },
  {
   "cell_type": "code",
   "execution_count": 2,
   "metadata": {},
   "outputs": [
    {
     "name": "stdout",
     "output_type": "stream",
     "text": [
      "628949330\n",
      "390577533.93\n"
     ]
    }
   ],
   "source": [
    "tierra = 149597870 \n",
    "jupiter = 778547200\n",
    "\n",
    "restar = abs(tierra - jupiter) \n",
    "print (restar)\n",
    "print (restar * 0.621)\n",
    "\n",
    "#result =f\"\"\" \n",
    "#{abs(tierra-jupiter)} \n",
    "#{abs((tierra-jupiter)*0.621)}\n",
    "#\"\"\"\n",
    "\n",
    "#print(result)"
   ]
  },
  {
   "cell_type": "markdown",
   "metadata": {},
   "source": [
    "\n",
    "Ejercicio 2: convierte cadenas en números y usa valores absolutos"
   ]
  },
  {
   "cell_type": "markdown",
   "metadata": {},
   "source": [
    "Para crear nuestra aplicación, queremos leer la distancia del sol para dos planetas, y luego mostrar la distancia entre los planetas. Haremos esto usando input para leer los valores, int para convertir a entero y luego abs para convertir el resultado en su valor absoluto."
   ]
  },
  {
   "cell_type": "code",
   "execution_count": 5,
   "metadata": {},
   "outputs": [
    {
     "name": "stdout",
     "output_type": "stream",
     "text": [
      "41400000 KMs  o (25709400, 1) Millas, es la distancia entre estos 2 planetas\n"
     ]
    }
   ],
   "source": [
    "val_planet_1 = int(input(\"Escribe la distancia de un planeta con el sol:\"))\n",
    "val_planet_2 = int(input(\"Escribe la distancia de un planeta con el sol:\"))\n",
    "resultado = abs(val_planet_1 - val_planet_2)\n",
    "print(str(resultado) + \" KMs \" + \" o \"+ str((round (resultado*0.621),1))  + \" Millas, \" + \"es la distancia entre estos 2 planetas.\")"
   ]
  }
 ],
 "metadata": {
  "interpreter": {
   "hash": "380ec6dcbc18b1440946c89c72cf42cdcea6b3bdb59148f31347c2d44682ce34"
  },
  "kernelspec": {
   "display_name": "Python 3.7.4 ('base')",
   "language": "python",
   "name": "python3"
  },
  "language_info": {
   "codemirror_mode": {
    "name": "ipython",
    "version": 3
   },
   "file_extension": ".py",
   "mimetype": "text/x-python",
   "name": "python",
   "nbconvert_exporter": "python",
   "pygments_lexer": "ipython3",
   "version": "3.7.4"
  },
  "orig_nbformat": 4
 },
 "nbformat": 4,
 "nbformat_minor": 2
}
