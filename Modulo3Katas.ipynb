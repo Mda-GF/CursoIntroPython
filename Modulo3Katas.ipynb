{
 "cells": [
  {
   "cell_type": "markdown",
   "metadata": {},
   "source": [
    "Ejercicio - Escribir declaraciones if, else, y elif\n",
    "\n",
    "<!-- Imprima una advertencia si un asteroide se acerca a la Tierra demasiado rápido. La velocidad del asteroide varía dependiendo de lo cerca que esté del sol, y cualquier velocidad superior a 25 kilómetros por segundo (km/s) merece una advertencia. -->"
   ]
  },
  {
   "cell_type": "markdown",
   "metadata": {},
   "source": [
    "Un asteroide se acerca, y viaja a una velocidad de 49 km/s."
   ]
  },
  {
   "cell_type": "code",
   "execution_count": 11,
   "metadata": {},
   "outputs": [
    {
     "name": "stdout",
     "output_type": "stream",
     "text": [
      "El asteroide está viajando a 49Km/s, por lo que toma a tu perro y corre...\n"
     ]
    }
   ],
   "source": [
    "velocidad = 49\n",
    "if velocidad < 25:\n",
    "    print (\"El asteroide está viajando a \" + str(velocidad) + \"Km/s, por lo que puedes seguir preparando tu café.\")\n",
    "else:\n",
    "    print (\"El asteroide está viajando a \" + str(velocidad) + \"Km/s, por lo que toma a tu perro y corre...\")"
   ]
  },
  {
   "cell_type": "code",
   "execution_count": 12,
   "metadata": {},
   "outputs": [
    {
     "name": "stdout",
     "output_type": "stream",
     "text": [
      "El asteroide está viajando a 11Km/s, por lo que puedes seguir preparando tu café.\n"
     ]
    }
   ],
   "source": [
    "velocidad = int(input(\"Indica la velocidad en la que viaja el asteroide: \"))\n",
    "if velocidad <= 25:\n",
    "    print (\"El asteroide está viajando a \" + str(velocidad) + \"Km/s, por lo que puedes seguir preparando tu café.\")\n",
    "else:\n",
    "    print (\"El asteroide está viajando a \" + str(velocidad) + \"Km/s, por lo que toma a tu perro y corre...\")"
   ]
  },
  {
   "cell_type": "markdown",
   "metadata": {},
   "source": [
    "Si un asteroide entra en la atmósfera de la Tierra a una velocidad mayor o igual a 20 km/s, a veces produce un rayo de luz que se puede ver desde la Tierra. \n",
    "<!-- Escribe la lógica condicional que usa declaraciones if, else, y elif para alertar a las personas de todo el mundo que deben buscar un asteroide en el cielo. ¡Hay uno que se dirige a la tierra ahora a una velocidad de 19 km/s! -->"
   ]
  },
  {
   "cell_type": "code",
   "execution_count": 20,
   "metadata": {},
   "outputs": [
    {
     "name": "stdout",
     "output_type": "stream",
     "text": [
      "Hay un asteroide entrando a la atmósfera de la tierra con una velocidad de 5Km/s.\n"
     ]
    }
   ],
   "source": [
    "velocidad = int(input(\"Indica la velocidad en la que viaja el asteroide: \"))\n",
    "if velocidad >= 20:\n",
    "    print(\"Look up the sky, maybe it will be the last time... Asteroide...\" + str(velocidad) + \"Km/s.\")\n",
    "elif velocidad < 10:\n",
    "    print (\"Hay un asteroide entrando a la atmósfera de la tierra con una velocidad de \" + str(velocidad) + \"Km/s.\")\n",
    "else:\n",
    "    print(\"Se encontró un asteroided viajando a una velocidad de \" + str(velocidad) + \"Km/s, por lo que no será visible...\")\n",
    "\n"
   ]
  },
  {
   "cell_type": "markdown",
   "metadata": {},
   "source": [
    "Ejercicio: Uso de operadores and y or"
   ]
  },
  {
   "cell_type": "markdown",
   "metadata": {},
   "source": [
    "*Los asteroides de menos de 25 metros en su dimensión más grande probablemente se quemarán a medida que entren en la atmósfera de la Tierra.\n",
    "\n",
    "Si una pieza de un asteroide que es más grande que 25 metros pero más pequeña que 1000 metros golpeara la Tierra, causaría mucho daño.\n",
    "También discutimos en el ejercicio anterior que:\n",
    "\n",
    "La velocidad del asteroide varía en función de lo cerca que esté del sol, y cualquier velocidad superior a 25 kilómetros por segundo (km/s) merece una advertencia.\n",
    "Si un asteroide entra en la atmósfera de la Tierra a una velocidad mayor o igual a 20 km/s, a veces produce un rayo de luz que se puede ver desde la Tierra.\n",
    "Usando toda esta información, escribe un programa que emita la advertencia o información correcta a la gente de la Tierra, según la velocidad y el tamaño de un asteroide. Utiliza instrucciones if, else, y elif, así como los operadores and y or."
   ]
  },
  {
   "cell_type": "code",
   "execution_count": 25,
   "metadata": {},
   "outputs": [
    {
     "name": "stdout",
     "output_type": "stream",
     "text": [
      "Nada que temer...\n"
     ]
    }
   ],
   "source": [
    "velocidad = int(input(\"Ingresa la velocidad:\"))\n",
    "if velocidad > 25 and velocidad < 1000:\n",
    "    print (\"Toma tu perro y busca un bunker... Un asteroide con tamaño de \" + str(velocidad) + \" metros, dañará nuestro planeta.\")\n",
    "elif velocidad > 25:\n",
    "    print (\"Do not look up!!... Asteroide de \" + str(velocidad) + \"Km/s en la mira.\")\n",
    "else:\n",
    "    print (\"Nada que temer...\")\n"
   ]
  },
  {
   "cell_type": "code",
   "execution_count": 27,
   "metadata": {},
   "outputs": [
    {
     "name": "stdout",
     "output_type": "stream",
     "text": [
      "Toma tu perro y busca un bunker... Un asteroide con tamaño de 26 metros, dañará nuestro planeta.\n"
     ]
    }
   ],
   "source": [
    "velocidad = int(input(\"Ingresa la velocidad:\"))\n",
    "size = int(input(\"¿Cuál es el tamaño del asteroide?\"))\n",
    "\n",
    "if size > 25 and size < 1000:\n",
    "    print (\"Toma tu perro y busca un bunker... Un asteroide con tamaño de \" + str(size) + \" metros, dañará nuestro planeta.\")\n",
    "elif velocidad > 25:\n",
    "    print (\"Do not look up!!... Asteroide de \" + str(velocidad) + \"Km/s en la mira. Con tamaño de \" + str(size) + \" metros\")\n",
    "elif velocidad >= 20:\n",
    "    print(\"Mira el rayito de luz...\" + str(velocidad) + \"Km/s. Con tamaño de \" + str(size) + \" metros\")\n",
    "else:\n",
    "    print (\"Nada que temer... El asteroide tiene una velocidad de\" + str(velocidad) + \" Km/s y un tamaño de \"+ str(size) + \" metros.\")"
   ]
  }
 ],
 "metadata": {
  "interpreter": {
   "hash": "c2babf640fc018af5d8b9afacde9f6fa74b25d27131936a39528ec5ee1dcf01a"
  },
  "kernelspec": {
   "display_name": "Python 3.7.0 64-bit",
   "language": "python",
   "name": "python3"
  },
  "language_info": {
   "codemirror_mode": {
    "name": "ipython",
    "version": 3
   },
   "file_extension": ".py",
   "mimetype": "text/x-python",
   "name": "python",
   "nbconvert_exporter": "python",
   "pygments_lexer": "ipython3",
   "version": "3.7.0"
  },
  "orig_nbformat": 4
 },
 "nbformat": 4,
 "nbformat_minor": 2
}
